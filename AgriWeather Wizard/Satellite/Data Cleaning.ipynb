{
 "cells": [
  {
   "cell_type": "code",
   "execution_count": 1,
   "metadata": {},
   "outputs": [],
   "source": [
    "import pandas as pd\n",
    "import numpy as np"
   ]
  },
  {
   "cell_type": "code",
   "execution_count": 2,
   "metadata": {},
   "outputs": [],
   "source": [
    "import os\n",
    "import pandas as pd\n",
    "\n",
    "# Specify the relative path to your file\n",
    "relative_path = \"Ricex_prepared2.csv\"\n",
    "\n",
    "# Get the current working directory\n",
    "current_directory = os.getcwd()\n",
    "\n",
    "# Construct the full file path by joining the current directory with the relative path\n",
    "file_path = os.path.join(current_directory, relative_path)\n",
    "\n",
    "# Check if the file exists\n",
    "if os.path.isfile(file_path):\n",
    "    # Read the CSV file\n",
    "    rice = pd.read_csv(file_path)\n",
    "    rice.head()\n",
    "else:\n",
    "    print(f\"File not found: {file_path}\")\n"
   ]
  },
  {
   "cell_type": "code",
   "execution_count": 3,
   "metadata": {},
   "outputs": [],
   "source": [
    "rice = rice.drop([\"Unnamed: 0\"],axis=1)"
   ]
  },
  {
   "cell_type": "code",
   "execution_count": 4,
   "metadata": {
    "scrolled": true
   },
   "outputs": [],
   "source": [
    "cols = list(rice.columns.values)"
   ]
  },
  {
   "cell_type": "code",
   "execution_count": 5,
   "metadata": {},
   "outputs": [],
   "source": [
    "l = rice.shape[0]\n",
    "b = rice.shape[1]\n",
    "for row in range(0,l):\n",
    "    vals = np.zeros(18)\n",
    "    bx = False\n",
    "    for col in range(10,b-108,18):\n",
    "        if pd.isnull(rice.iloc[row,col]):\n",
    "            s = cols[col]\n",
    "            #print s\n",
    "            #print rice.iloc[row,col]\n",
    "            \n",
    "            \"\"\"First calculate vals, if needed\"\"\" \n",
    "            if not bx: \n",
    "                n = 0\n",
    "                for i in range(10,b-108,18):\n",
    "                    if (cols[i] != s and (not pd.isnull(rice.iloc[row,i]))):\n",
    "                        n += 1\n",
    "                        for j in range(i,i+18):\n",
    "                            vals[j-i] += rice.iloc[row,j] \n",
    "                vals = vals/n \n",
    "                bx = True\n",
    "                \n",
    "            \"\"\"Update all those 18 blanks using vals\"\"\"\n",
    "            for j in range(col,col+18):\n",
    "                rice.iloc[row,j] = vals[j-col]\n",
    "            "
   ]
  },
  {
   "cell_type": "code",
   "execution_count": 6,
   "metadata": {},
   "outputs": [],
   "source": [
    "rice.to_csv(\"Rice_Ready.csv\")"
   ]
  }
 ],
 "metadata": {
  "kernelspec": {
   "display_name": "Python 3",
   "language": "python",
   "name": "python3"
  },
  "language_info": {
   "codemirror_mode": {
    "name": "ipython",
    "version": 3
   },
   "file_extension": ".py",
   "mimetype": "text/x-python",
   "name": "python",
   "nbconvert_exporter": "python",
   "pygments_lexer": "ipython3",
   "version": "3.12.0"
  }
 },
 "nbformat": 4,
 "nbformat_minor": 2
}
