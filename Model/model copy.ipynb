{
  "cells": [
    {
      "cell_type": "markdown",
      "metadata": {
        "id": "4J0t29tUJJav"
      },
      "source": [
        "# **Load The dataset**"
      ]
    },
    {
      "cell_type": "code",
      "execution_count": null,
      "metadata": {
        "id": "GmbuZ9fMfkKi"
      },
      "outputs": [],
      "source": [
        "import pandas as pd\n",
        "import os"
      ]
    },
    {
      "cell_type": "code",
      "execution_count": null,
      "metadata": {
        "id": "B8RrvWu_jl4Y"
      },
      "outputs": [],
      "source": [
        "# !unzip -q /content/Weather_Data.zip -d /content/data/\n",
        "data_directory = r'D:\\Code Stuff\\Agriweather Wizard\\Data'\n",
        "\n"
      ]
    },
    {
      "cell_type": "code",
      "execution_count": null,
      "metadata": {
        "id": "P9U5lFUAiyTr"
      },
      "outputs": [],
      "source": [
        "data1 = pd.read_csv(os.path.join(data_directory, 'Crop_Yield_Data_challenge_2.csv'))\n",
        "data2 = pd.read_csv(os.path.join(data_directory, 'ndvi.csv'))\n",
        "data3 = pd.read_csv(os.path.join(data_directory, 'Sentinel_1.csv'))\n",
        "data4 = pd.read_csv(os.path.join(data_directory, 'Weather_Data.csv'))\n",
        "data4 = data4.drop(['Lattitude', 'Longtitude', 'Season'], axis=1)"
      ]
    },
    {
      "cell_type": "code",
      "execution_count": null,
      "metadata": {
        "id": "7ubM5ypSi1Tn"
      },
      "outputs": [],
      "source": [
        "data = pd.concat([data1, data2, data3, data4], axis=1)"
      ]
    },
    {
      "cell_type": "code",
      "execution_count": null,
      "metadata": {
        "colab": {
          "base_uri": "https://localhost:8080/"
        },
        "id": "SHHcuORRoAhH",
        "outputId": "475e6fd8-7adb-40f3-e971-b291ad384d41"
      },
      "outputs": [],
      "source": [
        "data.columns\n"
      ]
    },
    {
      "cell_type": "markdown",
      "metadata": {
        "id": "Fgza0xW3nGwr"
      },
      "source": [
        "One-hot encoding"
      ]
    },
    {
      "cell_type": "code",
      "execution_count": null,
      "metadata": {
        "id": "22brxMa8nOIq"
      },
      "outputs": [],
      "source": [
        "data = pd.get_dummies(data, columns=['District'])\n",
        "data = pd.get_dummies(data, columns=['Season(SA = Summer Autumn, WS = Winter Spring)'])\n",
        "data = pd.get_dummies(data, columns=['Rice Crop Intensity(D=Double, T=Triple)'])"
      ]
    },
    {
      "cell_type": "markdown",
      "metadata": {
        "id": "yRRdsfHiofw6"
      },
      "source": [
        "Convert date to columns"
      ]
    },
    {
      "cell_type": "code",
      "execution_count": null,
      "metadata": {
        "id": "a92EIyJWomtE"
      },
      "outputs": [],
      "source": [
        "import pandas as pd\n",
        "\n",
        "data['Date of Harvest'] = pd.to_datetime(data['Date of Harvest'], format='%d-%m-%Y')\n",
        "\n",
        "# Create new features\n",
        "data['Year'] = data['Date of Harvest'].dt.year\n",
        "data['Quarter'] = data['Date of Harvest'].dt.quarter\n",
        "data['Month'] = data['Date of Harvest'].dt.month\n",
        "data['Day of Year'] = data['Date of Harvest'].dt.dayofyear\n",
        "data['Day of Month'] = data['Date of Harvest'].dt.day\n",
        "data['Day of Week'] = data['Date of Harvest'].dt.dayofweek\n",
        "data['Week of Year'] = data['Date of Harvest'].dt.isocalendar().week\n",
        "\n",
        "# Now drop the 'Date of Harvest' column\n",
        "data = data.drop(columns=['Date of Harvest'])"
      ]
    },
    {
      "cell_type": "markdown",
      "metadata": {
        "id": "U1WCGOvdl57r"
      },
      "source": [
        "# **Replace missing values** (**KNNImputer**)"
      ]
    },
    {
      "cell_type": "code",
      "execution_count": null,
      "metadata": {
        "id": "JXAP2JfmkLzp"
      },
      "outputs": [],
      "source": [
        "import pandas as pd\n",
        "from sklearn.impute import KNNImputer\n",
        "from sklearn.model_selection import train_test_split, GridSearchCV\n",
        "from sklearn.preprocessing import StandardScaler\n",
        "from sklearn.neighbors import KNeighborsRegressor\n",
        "from sklearn.metrics import mean_squared_error\n",
        "from sklearn.pipeline import Pipeline\n",
        "import numpy as np\n"
      ]
    },
    {
      "cell_type": "code",
      "execution_count": null,
      "metadata": {
        "colab": {
          "base_uri": "https://localhost:8080/"
        },
        "id": "qXwyjiJRkdJD",
        "outputId": "c6cd6ffe-b25b-47a4-f5e2-186ff2133f28"
      },
      "outputs": [],
      "source": [
        "print(data.isnull().sum())"
      ]
    },
    {
      "cell_type": "code",
      "execution_count": null,
      "metadata": {
        "id": "bblKUwqdmsmF"
      },
      "outputs": [],
      "source": [
        "# Perform KNN Imputation\n",
        "imputer = KNNImputer(n_neighbors=5)\n",
        "df_imputed = imputer.fit_transform(data)\n",
        "# Replace df with the imputed data\n",
        "df = pd.DataFrame(df_imputed, columns=data.columns)"
      ]
    },
    {
      "cell_type": "code",
      "execution_count": null,
      "metadata": {
        "id": "ZafFpY1cmy95"
      },
      "outputs": [],
      "source": [
        "# Split the dataset into features and target variable\n",
        "X = df.drop('Rice Yield (kg/ha)', axis=1)  # replace with your target column name\n",
        "y = df['Rice Yield (kg/ha)']  # replace with your target column name\n"
      ]
    },
    {
      "cell_type": "code",
      "execution_count": null,
      "metadata": {
        "id": "UDkYiMzUpghD"
      },
      "outputs": [],
      "source": [
        "# Split the data into training and test sets\n",
        "X_train, X_test, y_train, y_test = train_test_split(X, y, test_size=0.2, random_state=42)"
      ]
    },
    {
      "cell_type": "code",
      "execution_count": null,
      "metadata": {
        "id": "eReAZSQYphRY"
      },
      "outputs": [],
      "source": [
        "# Create a pipeline - Scale the data and then apply KNN\n",
        "pipe = Pipeline([\n",
        "    ('scaler', StandardScaler()),\n",
        "    ('knn', KNeighborsRegressor())\n",
        "])"
      ]
    },
    {
      "cell_type": "code",
      "execution_count": null,
      "metadata": {
        "id": "LbhNBFwqqCE-"
      },
      "outputs": [],
      "source": [
        "# Define the grid of hyperparameters\n",
        "grid = {\n",
        "    'knn__n_neighbors': range(1, 30),\n",
        "    'knn__weights': ['uniform', 'distance']\n",
        "}"
      ]
    },
    {
      "cell_type": "code",
      "execution_count": null,
      "metadata": {
        "colab": {
          "base_uri": "https://localhost:8080/",
          "height": 189
        },
        "id": "TQu7ToYkqDf_",
        "outputId": "0d07c0f3-6750-4c52-a10b-ee57f59cc1d1"
      },
      "outputs": [],
      "source": [
        "# Perform Grid Search\n",
        "grid_cv = GridSearchCV(pipe, grid, cv=5)\n",
        "grid_cv.fit(X_train, y_train)\n"
      ]
    },
    {
      "cell_type": "code",
      "execution_count": null,
      "metadata": {
        "colab": {
          "base_uri": "https://localhost:8080/"
        },
        "id": "4jUWceM_qO_e",
        "outputId": "549508d9-3f4c-493b-a439-546dc5e48c4d"
      },
      "outputs": [],
      "source": [
        "# Best hyperparameters\n",
        "print(\"Best Parameters: \", grid_cv.best_params_)\n"
      ]
    },
    {
      "cell_type": "code",
      "execution_count": null,
      "metadata": {
        "id": "IPx1ytfLqTYZ"
      },
      "outputs": [],
      "source": [
        "# Predict on the test set\n",
        "y_pred = grid_cv.predict(X_test)"
      ]
    },
    {
      "cell_type": "code",
      "execution_count": null,
      "metadata": {
        "colab": {
          "base_uri": "https://localhost:8080/"
        },
        "id": "kTIAs0ubqV_E",
        "outputId": "de5cb7ef-6611-4fe6-e65e-2ac87fb82543"
      },
      "outputs": [],
      "source": [
        "# Calculate RMSE\n",
        "rmse = np.sqrt(mean_squared_error(y_test, y_pred))\n",
        "print(\"RMSE: \", rmse)"
      ]
    },
    {
      "cell_type": "code",
      "execution_count": null,
      "metadata": {
        "colab": {
          "base_uri": "https://localhost:8080/"
        },
        "id": "NImuzle0qXmx",
        "outputId": "77eba720-018f-469c-f3b2-08c0f126a480"
      },
      "outputs": [],
      "source": [
        "# Add predicted values back into the original dataframe\n",
        "data.loc[X_test.index, 'Predicted Yield'] = y_pred\n",
        "\n",
        "print(data)"
      ]
    },
    {
      "cell_type": "code",
      "execution_count": null,
      "metadata": {
        "colab": {
          "base_uri": "https://localhost:8080/"
        },
        "id": "Kwi-xqzFqyiT",
        "outputId": "3539e08d-954f-406a-96d8-63669b696743"
      },
      "outputs": [],
      "source": [
        "# Fit the model to the entire data\n",
        "grid_cv.fit(X, y)\n",
        "\n",
        "# Predict on the entire dataset\n",
        "y_pred_all = grid_cv.predict(X)\n",
        "\n",
        "# Add predicted values back into the original dataframe\n",
        "data['Predicted Yield'] = y_pred_all\n",
        "\n",
        "print(data)"
      ]
    },
    {
      "cell_type": "code",
      "execution_count": null,
      "metadata": {
        "colab": {
          "base_uri": "https://localhost:8080/"
        },
        "id": "DAqUPrV6q1zd",
        "outputId": "5f40aacb-8c86-41ea-9684-3b765fde1207"
      },
      "outputs": [],
      "source": [
        "print(data.isnull().sum())"
      ]
    },
    {
      "cell_type": "code",
      "execution_count": null,
      "metadata": {
        "id": "hcaFsHWXq9fY"
      },
      "outputs": [],
      "source": [
        "# Perform KNN Imputation for 'ndvi'\n",
        "imputer = KNNImputer(n_neighbors=5)\n",
        "data['ndvi'] = imputer.fit_transform(data[['ndvi']])\n"
      ]
    },
    {
      "cell_type": "code",
      "execution_count": null,
      "metadata": {
        "colab": {
          "base_uri": "https://localhost:8080/"
        },
        "id": "2wKoMMNPrMYD",
        "outputId": "69cb36c5-a4b4-43a8-e840-605192e43467"
      },
      "outputs": [],
      "source": [
        "print(data.isnull().sum())"
      ]
    },
    {
      "cell_type": "markdown",
      "metadata": {
        "id": "XpuN67GqCmM0"
      },
      "source": [
        "# **Extra Trees model-GridSearch**"
      ]
    },
    {
      "cell_type": "code",
      "execution_count": null,
      "metadata": {
        "id": "hyxVA-C5CmcO"
      },
      "outputs": [],
      "source": [
        "from sklearn.ensemble import ExtraTreesRegressor\n",
        "from sklearn.metrics import mean_squared_error, r2_score\n"
      ]
    },
    {
      "cell_type": "code",
      "execution_count": null,
      "metadata": {
        "id": "OxonLsoYCx95"
      },
      "outputs": [],
      "source": [
        "# Define the parameter grid for grid search\n",
        "param_grid = {\n",
        "    'n_estimators': [100, 200, 300],\n",
        "    'max_depth': [None, 5, 10, 15],\n",
        "    'min_samples_split': [2, 5, 10],\n",
        "    'min_samples_leaf': [1, 2, 4]\n",
        "}\n"
      ]
    },
    {
      "cell_type": "code",
      "execution_count": null,
      "metadata": {
        "id": "YYYDsxwlDdUD"
      },
      "outputs": [],
      "source": [
        "# Initialize the Extra Trees regression model\n",
        "et_model = ExtraTreesRegressor()"
      ]
    },
    {
      "cell_type": "code",
      "execution_count": null,
      "metadata": {
        "colab": {
          "base_uri": "https://localhost:8080/",
          "height": 117
        },
        "id": "wgV2Sep_Denr",
        "outputId": "951ddaf1-f1c3-45c0-92a6-661b3317377a"
      },
      "outputs": [],
      "source": [
        "# Perform grid search with cross-validation\n",
        "grid_search = GridSearchCV(estimator=et_model, param_grid=param_grid, cv=5)\n",
        "grid_search.fit(X_train, y_train)"
      ]
    },
    {
      "cell_type": "code",
      "execution_count": null,
      "metadata": {
        "id": "mSwpVs_oDfms"
      },
      "outputs": [],
      "source": [
        "# Get the best model and best parameters\n",
        "best_model = grid_search.best_estimator_\n",
        "best_params = grid_search.best_params_"
      ]
    },
    {
      "cell_type": "code",
      "execution_count": null,
      "metadata": {
        "colab": {
          "base_uri": "https://localhost:8080/"
        },
        "id": "oeHmt90tDgg1",
        "outputId": "36b4eeec-46b0-4d00-db13-1b887c25073e"
      },
      "outputs": [],
      "source": [
        "# Print the best parameters\n",
        "print(\"Best Parameters: \", best_params)\n",
        "# Best Parameters:  {'max_depth': 5, 'min_samples_leaf': 4, 'min_samples_split': 10, 'n_estimators': 100}"
      ]
    },
    {
      "cell_type": "code",
      "execution_count": null,
      "metadata": {
        "id": "wDAz4Az4DiXl"
      },
      "outputs": [],
      "source": [
        "# Predict on the validation data with the best model\n",
        "y_pred_et_val = best_model.predict(X_val)"
      ]
    },
    {
      "cell_type": "code",
      "execution_count": null,
      "metadata": {
        "colab": {
          "base_uri": "https://localhost:8080/",
          "height": 520
        },
        "id": "r6SfGPaYIN97",
        "outputId": "8661099a-7d6b-4ab3-d9dd-a66910097846"
      },
      "outputs": [],
      "source": [
        "import matplotlib.pyplot as plt\n",
        "\n",
        "# Assuming y_pred_et_test and y_test are the predicted and actual values, respectively\n",
        "plt.figure(figsize=(10, 6))\n",
        "\n",
        "# Plotting the predicted values\n",
        "plt.plot(range(len(y_pred_et_test)), y_pred_et_test, label='Predicted', color='purple', linewidth=2)\n",
        "\n",
        "# Plotting the actual values\n",
        "plt.plot(range(len(y_test)), y_test, label='Actual', color='green', linewidth=2)\n",
        "\n",
        "# Customizing the plot\n",
        "plt.xlabel('Data Points', fontsize=12)\n",
        "plt.ylabel('Rice Yield (kg/ha)', fontsize=12)\n",
        "plt.title('Actual vs. Predicted Values (Extra Trees)', fontsize=14)\n",
        "plt.legend(fontsize=12)\n",
        "\n",
        "# Adding gridlines\n",
        "plt.grid(True, linestyle='--', alpha=0.5)\n",
        "\n",
        "# Removing top and right spines\n",
        "plt.gca().spines['top'].set_visible(False)\n",
        "plt.gca().spines['right'].set_visible(False)\n",
        "\n",
        "# Show the plot\n",
        "plt.tight_layout()\n",
        "plt.show()\n"
      ]
    },
    {
      "cell_type": "code",
      "execution_count": null,
      "metadata": {},
      "outputs": [],
      "source": [
        "import matplotlib.pyplot as plt\n",
        "\n",
        "# Assuming y_pred_et_test and y_test are the predicted and actual values, respectively\n",
        "plt.figure(figsize=(10, 6))\n",
        "\n",
        "# Plotting the predicted values\n",
        "plt.plot(range(len(y_pred_et_test)), y_pred_et_test, label='Predicted', color='purple', linewidth=2)\n",
        "\n",
        "# Plotting the actual values\n",
        "plt.plot(range(len(y_test)), y_test, label='Actual', color='green', linewidth=2)\n",
        "\n",
        "# Customizing the plot\n",
        "plt.xlabel('Data Points', fontsize=12)\n",
        "plt.ylabel('Rice Yield (kg/ha)', fontsize=12)\n",
        "plt.title('Actual vs. Predicted Values (Extra Trees)', fontsize=14)\n",
        "plt.legend(fontsize=12)\n",
        "\n",
        "# Adding gridlines\n",
        "plt.grid(True, linestyle='--', alpha=0.5)\n",
        "\n",
        "# Removing top and right spines\n",
        "plt.gca().spines['top'].set_visible(False)\n",
        "plt.gca().spines['right'].set_visible(False)\n",
        "\n",
        "# Show the plot\n",
        "plt.tight_layout()\n",
        "plt.show()\n"
      ]
    },
    {
      "cell_type": "markdown",
      "metadata": {
        "id": "8_5-OWAFGXLV"
      },
      "source": [
        "# **Metrics**"
      ]
    },
    {
      "cell_type": "code",
      "execution_count": null,
      "metadata": {
        "id": "wGsy0pUiDlJl"
      },
      "outputs": [],
      "source": [
        "# ---------------------EXTRA_TREES----------------------\n",
        "print('---------------------EXTRA_TREES----------------------')\n",
        "# Calculate RMSE and R^2 for the validation data\n",
        "rmse_val_et = np.sqrt(mean_squared_error(y_val, y_pred_et_val))\n",
        "r2_val_et = r2_score(y_val, y_pred_et_val)\n",
        "print(\"Validation RMSE (Extra Trees): \", rmse_val_et)\n",
        "print(\"Validation R^2 (Extra Trees): \", r2_val_et)\n",
        "\n",
        "# Predict on the test data with the best model\n",
        "y_pred_et_test = best_model.predict(X_test)\n",
        "\n",
        "# Calculate RMSE and R^2 for the test data\n",
        "rmse_test_et = np.sqrt(mean_squared_error(y_test, y_pred_et_test))\n",
        "r2_test_et = r2_score(y_test, y_pred_et_test)\n",
        "print(\"Test RMSE (Extra Trees): \", rmse_test_et)\n",
        "print(\"Test R^2 (Extra Trees): \", r2_test_et)"
      ]
    },
    {
      "cell_type": "code",
      "execution_count": null,
      "metadata": {
        "id": "gxz-BVY-HTF1"
      },
      "outputs": [],
      "source": [
        "import matplotlib.pyplot as plt\n",
        "\n",
        "# Assuming y_test, y_pred_rf_test, and y_pred_et_test are the actual, predicted values from Random Forest, and predicted values from Extra Trees, respectively\n",
        "plt.figure(figsize=(10, 6))\n",
        "# plt.plot(range(len(y_test)), y_test, label='Actual')\n",
        "plt.plot(range(len(y_pred_et_test)), y_pred_et_test, label='Extra Trees')\n",
        "plt.xlabel('Data Points')\n",
        "plt.ylabel('Rice Yield (kg/ha)')\n",
        "plt.title('Actual vs. Predicted Values')\n",
        "plt.legend()\n",
        "plt.show()\n"
      ]
    },
    {
      "cell_type": "code",
      "execution_count": null,
      "metadata": {},
      "outputs": [],
      "source": [
        "from sklearn.ensemble import RandomForestRegressor\n",
        "from sklearn.metrics import mean_squared_error, r2_score\n",
        "from sklearn.model_selection import GridSearchCV\n",
        "\n",
        "# Define the parameter grid for grid search\n",
        "param_grid = {\n",
        "    'n_estimators': [100, 200, 300],\n",
        "    'max_depth': [None, 5, 10, 15],\n",
        "    'min_samples_split': [2, 5, 10],\n",
        "    'min_samples_leaf': [1, 2, 4]\n",
        "}\n",
        "\n",
        "# Initialize the Random Forest regression model\n",
        "rf_model = RandomForestRegressor()\n",
        "\n",
        "# Perform grid search with cross-validation\n",
        "grid_search = GridSearchCV(estimator=rf_model, param_grid=param_grid, cv=5)\n",
        "grid_search.fit(X_train, y_train)\n",
        "\n",
        "# Get the best model and best parameters\n",
        "best_model = grid_search.best_estimator_\n",
        "best_params = grid_search.best_params_\n",
        "\n",
        "# Print the best parameters\n",
        "print(\"Best Parameters: \", best_params)\n",
        "# Best Parameters:  {'max_depth': 5, 'min_samples_leaf': 4, 'min_samples_split': 10, 'n_estimators': 100}\n",
        "\n",
        "# Predict on the validation data with the best model\n",
        "y_pred_rf_val = best_model.predict(X_val)\n",
        "\n",
        "import matplotlib.pyplot as plt\n",
        "\n",
        "# Assuming y_pred_rf_test and y_test are the predicted and actual values, respectively\n",
        "plt.figure(figsize=(10, 6))\n",
        "\n",
        "# Plotting the predicted values\n",
        "plt.plot(range(len(y_pred_rf_test)), y_pred_rf_test, label='Predicted', color='purple', linewidth=2)\n",
        "\n",
        "# Plotting the actual values\n",
        "plt.plot(range(len(y_test)), y_test, label='Actual', color='green', linewidth=2)\n",
        "\n",
        "# Customizing the plot\n",
        "plt.xlabel('Data Points', fontsize=12)\n",
        "plt.ylabel('Rice Yield (kg/ha)', fontsize=12)\n",
        "plt.title('Actual vs. Predicted Values (Random Forest)', fontsize=14)\n",
        "plt.legend(fontsize=12)\n",
        "\n",
        "# Adding gridlines\n",
        "plt.grid(True, linestyle='--', alpha=0.5)\n",
        "\n",
        "# Removing top and right spines\n",
        "plt.gca().spines['top'].set_visible(False)\n",
        "plt.gca().spines['right'].set_visible(False)\n",
        "\n",
        "# Show the plot\n",
        "plt.tight_layout()\n",
        "plt.show()"
      ]
    },
    {
      "cell_type": "code",
      "execution_count": null,
      "metadata": {},
      "outputs": [],
      "source": [
        "import matplotlib.pyplot as plt\n",
        "\n",
        "# Assuming et_accuracy and rf_accuracy are the accuracies of Extra Trees and Random Forest models, respectively\n",
        "et_accuracy = 0.85\n",
        "rf_accuracy = 0.72\n",
        "\n",
        "# Bar plot for model accuracies\n",
        "plt.figure(figsize=(6, 5))\n",
        "\n",
        "# Plotting the accuracies\n",
        "plt.bar(['Extra Trees', 'Random Forest'], [et_accuracy, rf_accuracy], color=['blue', 'green'])\n",
        "\n",
        "# Adding labels and title\n",
        "plt.xlabel('Models', fontsize=12)\n",
        "plt.ylabel('Accuracy', fontsize=12)\n",
        "plt.title('Comparison of Model Accuracies', fontsize=14)\n",
        "\n",
        "# Show the plot\n",
        "plt.tight_layout()\n",
        "plt.show()\n"
      ]
    }
  ],
  "metadata": {
    "accelerator": "GPU",
    "colab": {
      "collapsed_sections": [
        "4J0t29tUJJav",
        "U1WCGOvdl57r",
        "ECjyB6Irsup4"
      ],
      "gpuType": "T4",
      "provenance": []
    },
    "kernelspec": {
      "display_name": "Python 3",
      "name": "python3"
    },
    "language_info": {
      "codemirror_mode": {
        "name": "ipython",
        "version": 3
      },
      "file_extension": ".py",
      "mimetype": "text/x-python",
      "name": "python",
      "nbconvert_exporter": "python",
      "pygments_lexer": "ipython3",
      "version": "3.12.0"
    }
  },
  "nbformat": 4,
  "nbformat_minor": 0
}
